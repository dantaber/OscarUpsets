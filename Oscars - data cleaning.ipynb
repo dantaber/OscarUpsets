{
 "cells": [
  {
   "cell_type": "code",
   "execution_count": 1,
   "metadata": {
    "collapsed": true
   },
   "outputs": [],
   "source": [
    "import pickle\n",
    "import pandas as pd\n",
    "import numpy as np\n",
    "import re\n",
    "import warnings\n",
    "warnings.filterwarnings('ignore')\n",
    "from matplotlib import pyplot as plt\n",
    "%matplotlib inline"
   ]
  },
  {
   "cell_type": "code",
   "execution_count": 2,
   "metadata": {
    "collapsed": true
   },
   "outputs": [],
   "source": [
    "# LOAD\n",
    "file = 'df_master_1992-2017'\n",
    "f = open(file,'rb') \n",
    "df = pickle.load(f) \n",
    "f.close()"
   ]
  },
  {
   "cell_type": "code",
   "execution_count": 3,
   "metadata": {
    "collapsed": true
   },
   "outputs": [],
   "source": [
    "df_match = df[df.match == 'match']"
   ]
  },
  {
   "cell_type": "markdown",
   "metadata": {},
   "source": [
    "**Features to focus on:**  \n",
    "* Budget\n",
    "* Gross\n",
    "* Genre (dummy variables)\n",
    "* Country (US or UK - dummy variables)\n",
    "* Runtime\n",
    "* Metacritic score\n",
    "* Total nominations\n",
    "* Total wins\n",
    "* Month"
   ]
  },
  {
   "cell_type": "code",
   "execution_count": 4,
   "metadata": {
    "collapsed": true
   },
   "outputs": [],
   "source": [
    "df = df_match[['imdb_name', 'imdb_year', 'budget', 'gross', 'drama', 'comedy', 'action', 'crime', 'romance', \n",
    "                 'sport', 'biography', 'mystery', 'musical', 'thriller', 'adventure',\n",
    "                 'sci-fi', 'family', 'history', 'USA', 'UK', 'runtime', 'metacritic', \n",
    "                   'total_noms', 'total_wins', 'month', 'winner', 'nominee', 'bp_nominee', 'oscar_name', 'oscar_year']]"
   ]
  },
  {
   "cell_type": "code",
   "execution_count": 5,
   "metadata": {},
   "outputs": [
    {
     "data": {
      "text/html": [
       "<div>\n",
       "<table border=\"1\" class=\"dataframe\">\n",
       "  <thead>\n",
       "    <tr style=\"text-align: right;\">\n",
       "      <th></th>\n",
       "      <th>imdb_name</th>\n",
       "      <th>imdb_year</th>\n",
       "      <th>budget</th>\n",
       "      <th>gross</th>\n",
       "      <th>drama</th>\n",
       "      <th>comedy</th>\n",
       "      <th>action</th>\n",
       "      <th>crime</th>\n",
       "      <th>romance</th>\n",
       "      <th>sport</th>\n",
       "      <th>...</th>\n",
       "      <th>runtime</th>\n",
       "      <th>metacritic</th>\n",
       "      <th>total_noms</th>\n",
       "      <th>total_wins</th>\n",
       "      <th>month</th>\n",
       "      <th>winner</th>\n",
       "      <th>nominee</th>\n",
       "      <th>bp_nominee</th>\n",
       "      <th>oscar_name</th>\n",
       "      <th>oscar_year</th>\n",
       "    </tr>\n",
       "  </thead>\n",
       "  <tbody>\n",
       "    <tr>\n",
       "      <th>0</th>\n",
       "      <td>Unforgiven</td>\n",
       "      <td>1992</td>\n",
       "      <td>$14,400,000</td>\n",
       "      <td>$101,157,447</td>\n",
       "      <td>1</td>\n",
       "      <td>0</td>\n",
       "      <td>0</td>\n",
       "      <td>0</td>\n",
       "      <td>0</td>\n",
       "      <td>0</td>\n",
       "      <td>...</td>\n",
       "      <td>130 min</td>\n",
       "      <td>85</td>\n",
       "      <td>37</td>\n",
       "      <td>47</td>\n",
       "      <td>August</td>\n",
       "      <td>1.0</td>\n",
       "      <td>1.0</td>\n",
       "      <td>1.0</td>\n",
       "      <td>unforgiven</td>\n",
       "      <td>1993</td>\n",
       "    </tr>\n",
       "    <tr>\n",
       "      <th>1</th>\n",
       "      <td>The Crying Game</td>\n",
       "      <td>1992</td>\n",
       "      <td>£2,300,000</td>\n",
       "      <td>$62,549,000</td>\n",
       "      <td>1</td>\n",
       "      <td>0</td>\n",
       "      <td>0</td>\n",
       "      <td>1</td>\n",
       "      <td>1</td>\n",
       "      <td>0</td>\n",
       "      <td>...</td>\n",
       "      <td>112 min</td>\n",
       "      <td>90</td>\n",
       "      <td>42</td>\n",
       "      <td>21</td>\n",
       "      <td>February</td>\n",
       "      <td>0.0</td>\n",
       "      <td>1.0</td>\n",
       "      <td>1.0</td>\n",
       "      <td>the crying game</td>\n",
       "      <td>1993</td>\n",
       "    </tr>\n",
       "    <tr>\n",
       "      <th>2</th>\n",
       "      <td>A Few Good Men</td>\n",
       "      <td>1992</td>\n",
       "      <td>$40,000,000</td>\n",
       "      <td>$141,340,178</td>\n",
       "      <td>1</td>\n",
       "      <td>0</td>\n",
       "      <td>0</td>\n",
       "      <td>0</td>\n",
       "      <td>0</td>\n",
       "      <td>0</td>\n",
       "      <td>...</td>\n",
       "      <td>138 min</td>\n",
       "      <td>62</td>\n",
       "      <td>29</td>\n",
       "      <td>10</td>\n",
       "      <td>December</td>\n",
       "      <td>0.0</td>\n",
       "      <td>1.0</td>\n",
       "      <td>1.0</td>\n",
       "      <td>a few good men</td>\n",
       "      <td>1993</td>\n",
       "    </tr>\n",
       "    <tr>\n",
       "      <th>3</th>\n",
       "      <td>Howards End</td>\n",
       "      <td>1992</td>\n",
       "      <td>NaN</td>\n",
       "      <td>$25,967,000</td>\n",
       "      <td>1</td>\n",
       "      <td>0</td>\n",
       "      <td>0</td>\n",
       "      <td>0</td>\n",
       "      <td>1</td>\n",
       "      <td>0</td>\n",
       "      <td>...</td>\n",
       "      <td>140 min</td>\n",
       "      <td>89</td>\n",
       "      <td>42</td>\n",
       "      <td>31</td>\n",
       "      <td>February</td>\n",
       "      <td>0.0</td>\n",
       "      <td>1.0</td>\n",
       "      <td>1.0</td>\n",
       "      <td>howards end</td>\n",
       "      <td>1993</td>\n",
       "    </tr>\n",
       "    <tr>\n",
       "      <th>4</th>\n",
       "      <td>Scent of a Woman</td>\n",
       "      <td>1992</td>\n",
       "      <td>$31,000,000</td>\n",
       "      <td>$63,895,607</td>\n",
       "      <td>1</td>\n",
       "      <td>0</td>\n",
       "      <td>0</td>\n",
       "      <td>0</td>\n",
       "      <td>0</td>\n",
       "      <td>0</td>\n",
       "      <td>...</td>\n",
       "      <td>156 min</td>\n",
       "      <td>59</td>\n",
       "      <td>13</td>\n",
       "      <td>6</td>\n",
       "      <td>January</td>\n",
       "      <td>0.0</td>\n",
       "      <td>1.0</td>\n",
       "      <td>1.0</td>\n",
       "      <td>scent of a woman</td>\n",
       "      <td>1993</td>\n",
       "    </tr>\n",
       "  </tbody>\n",
       "</table>\n",
       "<p>5 rows × 30 columns</p>\n",
       "</div>"
      ],
      "text/plain": [
       "          imdb_name imdb_year       budget         gross  drama  comedy  \\\n",
       "0        Unforgiven      1992  $14,400,000  $101,157,447      1       0   \n",
       "1   The Crying Game      1992   £2,300,000   $62,549,000      1       0   \n",
       "2    A Few Good Men      1992  $40,000,000  $141,340,178      1       0   \n",
       "3       Howards End      1992          NaN   $25,967,000      1       0   \n",
       "4  Scent of a Woman      1992  $31,000,000   $63,895,607      1       0   \n",
       "\n",
       "   action  crime  romance  sport     ...      runtime  metacritic  total_noms  \\\n",
       "0       0      0        0      0     ...      130 min          85          37   \n",
       "1       0      1        1      0     ...      112 min          90          42   \n",
       "2       0      0        0      0     ...      138 min          62          29   \n",
       "3       0      0        1      0     ...      140 min          89          42   \n",
       "4       0      0        0      0     ...      156 min          59          13   \n",
       "\n",
       "   total_wins     month  winner  nominee  bp_nominee        oscar_name  \\\n",
       "0          47    August     1.0      1.0         1.0        unforgiven   \n",
       "1          21  February     0.0      1.0         1.0   the crying game   \n",
       "2          10  December     0.0      1.0         1.0    a few good men   \n",
       "3          31  February     0.0      1.0         1.0       howards end   \n",
       "4           6   January     0.0      1.0         1.0  scent of a woman   \n",
       "\n",
       "   oscar_year  \n",
       "0        1993  \n",
       "1        1993  \n",
       "2        1993  \n",
       "3        1993  \n",
       "4        1993  \n",
       "\n",
       "[5 rows x 30 columns]"
      ]
     },
     "execution_count": 5,
     "metadata": {},
     "output_type": "execute_result"
    }
   ],
   "source": [
    "df.head()"
   ]
  },
  {
   "cell_type": "markdown",
   "metadata": {},
   "source": [
    "**Convert runtime, budget, gross into integers**"
   ]
  },
  {
   "cell_type": "code",
   "execution_count": 6,
   "metadata": {
    "collapsed": true
   },
   "outputs": [],
   "source": [
    "for i in ['budget', 'runtime', 'gross']:\n",
    "    df[i] = df[i].replace(np.nan, '')"
   ]
  },
  {
   "cell_type": "code",
   "execution_count": 7,
   "metadata": {
    "collapsed": true
   },
   "outputs": [],
   "source": [
    "df['test'] = df.runtime.map(lambda x: re.findall(r'[0-9]+', x))\n",
    "df['runtime'] = df.test.apply(lambda x: int(x[0]) if len(x)>0 else np.nan)"
   ]
  },
  {
   "cell_type": "code",
   "execution_count": 8,
   "metadata": {
    "collapsed": true
   },
   "outputs": [],
   "source": [
    "df['gross_new'] = df.gross.map(lambda x: ''.join(e for e in x if e.isdigit() or e == '.'))\n",
    "df['gross_dollar'] = df.gross.apply(lambda x: 1 if '$' in x else 0)\n",
    "df['gross_new'] = df.gross_new.map(lambda x: int(x) if len(x)>0 else np.nan)"
   ]
  },
  {
   "cell_type": "code",
   "execution_count": 9,
   "metadata": {
    "collapsed": true
   },
   "outputs": [],
   "source": [
    "df['budget_new'] = df.budget.map(lambda x: ''.join(e for e in x if e.isdigit() or e == '.'))\n",
    "df['budget_dollar'] = df.budget.apply(lambda x: 1 if '$' in x else 0)"
   ]
  },
  {
   "cell_type": "code",
   "execution_count": 10,
   "metadata": {},
   "outputs": [
    {
     "data": {
      "text/plain": [
       "$    1000\n",
       "      808\n",
       "€      48\n",
       "£      26\n",
       "F      12\n",
       "C      11\n",
       "A       4\n",
       "D       4\n",
       "H       3\n",
       "B       2\n",
       "J       1\n",
       "E       1\n",
       "N       1\n",
       "I       1\n",
       "K       1\n",
       "S       1\n",
       "Name: budget_currency, dtype: int64"
      ]
     },
     "execution_count": 10,
     "metadata": {},
     "output_type": "execute_result"
    }
   ],
   "source": [
    "df['budget_currency'] = df.budget.map(lambda x: x[0] if len(x)>0 else '')\n",
    "df.budget_currency.value_counts()"
   ]
  },
  {
   "cell_type": "markdown",
   "metadata": {},
   "source": [
    "**NOTE**: Need to drop budget - too many missings"
   ]
  },
  {
   "cell_type": "markdown",
   "metadata": {},
   "source": [
    "## Handle missing data"
   ]
  },
  {
   "cell_type": "code",
   "execution_count": 11,
   "metadata": {},
   "outputs": [
    {
     "data": {
      "text/plain": [
       "imdb_name            0\n",
       "imdb_year            0\n",
       "budget               0\n",
       "gross                0\n",
       "drama                0\n",
       "comedy               0\n",
       "action               0\n",
       "crime                0\n",
       "romance              0\n",
       "sport                0\n",
       "biography            0\n",
       "mystery              0\n",
       "musical              0\n",
       "thriller             0\n",
       "adventure            0\n",
       "sci-fi               0\n",
       "family               0\n",
       "history              0\n",
       "USA                  0\n",
       "UK                   0\n",
       "runtime            259\n",
       "metacritic          57\n",
       "total_noms         427\n",
       "total_wins         336\n",
       "month               12\n",
       "winner             239\n",
       "nominee              0\n",
       "bp_nominee           0\n",
       "oscar_name           0\n",
       "oscar_year           0\n",
       "test                 0\n",
       "gross_new          177\n",
       "gross_dollar         0\n",
       "budget_new           0\n",
       "budget_dollar        0\n",
       "budget_currency      0\n",
       "dtype: int64"
      ]
     },
     "execution_count": 11,
     "metadata": {},
     "output_type": "execute_result"
    }
   ],
   "source": [
    "df.isnull().sum()"
   ]
  },
  {
   "cell_type": "code",
   "execution_count": 12,
   "metadata": {
    "collapsed": true
   },
   "outputs": [],
   "source": [
    "# Replace with zero\n",
    "for i in ['total_noms', 'total_wins', 'winner']:\n",
    "    df.loc[df[i].isnull() , i] = 0"
   ]
  },
  {
   "cell_type": "code",
   "execution_count": 13,
   "metadata": {
    "collapsed": true
   },
   "outputs": [],
   "source": [
    "# Replace with mean\n",
    "for i in ['metacritic', 'gross_new', 'runtime']:\n",
    "    df[i].fillna(df[i].mean(), inplace = True)"
   ]
  },
  {
   "cell_type": "markdown",
   "metadata": {},
   "source": [
    "# Create new variables"
   ]
  },
  {
   "cell_type": "code",
   "execution_count": 14,
   "metadata": {
    "collapsed": true
   },
   "outputs": [],
   "source": [
    "# Convert month to season and create dummies\n",
    "seasons = {\"season\": {\"January\": 'Winter', \"February\": 'Spring', \"March\": 'Spring',\n",
    "                     \"April\": 'Spring', \"May\": 'Spring', \"June\": 'Summer', \"July\": 'Summer', \n",
    "                     \"August\": 'Summer', \"September\": 'Summer', \"October\": 'Winter', \n",
    "                     \"November\": 'Winter', \"December\": 'Winter' }}\n",
    "\n",
    "df['season'] = df.month\n",
    "df.replace(seasons, inplace=True)\n",
    "\n",
    "df_season = pd.get_dummies(df['season'])\n",
    "df = pd.concat([df, df_season], axis=1)"
   ]
  },
  {
   "cell_type": "code",
   "execution_count": 15,
   "metadata": {
    "collapsed": true
   },
   "outputs": [],
   "source": [
    "# Standardize continuous variables by year\n",
    "for i in ['gross_new', 'metacritic', 'total_wins', 'total_noms']:\n",
    "    df[i + str('_norm')] = df.groupby('imdb_year')[i].transform(lambda x: (x - x.mean()) / x.std())"
   ]
  },
  {
   "cell_type": "code",
   "execution_count": 16,
   "metadata": {},
   "outputs": [
    {
     "data": {
      "text/plain": [
       "(array([ 1235.,   437.,   113.,    70.,    24.,    20.,    11.,     6.,\n",
       "            4.,     2.]),\n",
       " array([-0.95276172, -0.10695448,  0.73885275,  1.58465999,  2.43046722,\n",
       "         3.27627446,  4.1220817 ,  4.96788893,  5.81369617,  6.65950341,\n",
       "         7.50531064]),\n",
       " <a list of 10 Patch objects>)"
      ]
     },
     "execution_count": 16,
     "metadata": {},
     "output_type": "execute_result"
    },
    {
     "data": {
      "image/png": "[encoded data removed]",
      "text/plain": [
       "<matplotlib.figure.Figure at 0x10ac3edd8>"
      ]
     },
     "metadata": {},
     "output_type": "display_data"
    }
   ],
   "source": [
    "plt.hist(df.gross_new_norm.dropna(), alpha=0.9, color='blue')"
   ]
  },
  {
   "cell_type": "code",
   "execution_count": 17,
   "metadata": {
    "collapsed": true
   },
   "outputs": [],
   "source": [
    "# Log transform gross, wins, and noms\n",
    "for i in ['gross_new_norm', 'total_wins_norm', 'total_noms_norm']:\n",
    "    df['log_' + i] = df[i].map(lambda x: np.log(x + 1))"
   ]
  },
  {
   "cell_type": "code",
   "execution_count": 18,
   "metadata": {},
   "outputs": [
    {
     "data": {
      "text/plain": [
       "(array([  15.,    9.,   30.,  113.,  815.,  441.,  259.,  142.,   75.,   23.]),\n",
       " array([-3.05255072, -2.53322657, -2.01390242, -1.49457828, -0.97525413,\n",
       "        -0.45592998,  0.06339416,  0.58271831,  1.10204246,  1.6213666 ,\n",
       "         2.14069075]),\n",
       " <a list of 10 Patch objects>)"
      ]
     },
     "execution_count": 18,
     "metadata": {},
     "output_type": "execute_result"
    },
    {
     "data": {
      "image/png": "[encoded data removed]",
      "text/plain": [
       "<matplotlib.figure.Figure at 0x10b2febe0>"
      ]
     },
     "metadata": {},
     "output_type": "display_data"
    }
   ],
   "source": [
    "plt.hist(df.log_gross_new_norm.dropna(), alpha=0.9, color='blue')"
   ]
  },
  {
   "cell_type": "code",
   "execution_count": 22,
   "metadata": {},
   "outputs": [
    {
     "data": {
      "text/plain": [
       "(array([ 186.,  429.,  418.,  346.,  212.,  133.,   76.,   69.,   32.,   20.]),\n",
       " array([-1.37843673, -1.034832  , -0.69122727, -0.34762254, -0.00401781,\n",
       "         0.33958692,  0.68319165,  1.02679638,  1.37040111,  1.71400584,\n",
       "         2.05761057]),\n",
       " <a list of 10 Patch objects>)"
      ]
     },
     "execution_count": 22,
     "metadata": {},
     "output_type": "execute_result"
    },
    {
     "data": {
      "image/png": "[encoded data removed]",
      "text/plain": [
       "<matplotlib.figure.Figure at 0x10b46a630>"
      ]
     },
     "metadata": {},
     "output_type": "display_data"
    }
   ],
   "source": [
    "plt.hist(df.log_total_wins_norm.dropna(), alpha=0.9, color='blue')"
   ]
  },
  {
   "cell_type": "code",
   "execution_count": 23,
   "metadata": {},
   "outputs": [
    {
     "data": {
      "text/plain": [
       "(array([  13.,  191.,  277.,  356.,  329.,  246.,  214.,  141.,  102.,   52.]),\n",
       " array([-2.24598137, -1.84161168, -1.437242  , -1.03287232, -0.62850264,\n",
       "        -0.22413295,  0.18023673,  0.58460641,  0.98897609,  1.39334578,\n",
       "         1.79771546]),\n",
       " <a list of 10 Patch objects>)"
      ]
     },
     "execution_count": 23,
     "metadata": {},
     "output_type": "execute_result"
    },
    {
     "data": {
      "image/png": "[encoded data removed]",
      "text/plain": [
       "<matplotlib.figure.Figure at 0x10b5c82e8>"
      ]
     },
     "metadata": {},
     "output_type": "display_data"
    }
   ],
   "source": [
    "plt.hist(df.log_total_noms_norm.dropna(), alpha=0.9, color='blue')"
   ]
  },
  {
   "cell_type": "markdown",
   "metadata": {},
   "source": [
    "## Export df to be used in model"
   ]
  },
  {
   "cell_type": "code",
   "execution_count": 19,
   "metadata": {
    "collapsed": true
   },
   "outputs": [],
   "source": [
    "df_model = df[['imdb_name', 'imdb_year', 'log_gross_new_norm',\n",
    "               'drama', 'comedy', 'action', 'crime', 'romance', 'sport', 'biography', 'mystery', 'musical', \n",
    "               'thriller', 'adventure', 'sci-fi', 'family', 'history', 'USA', 'UK', \n",
    "               'runtime', 'metacritic_norm', 'log_total_noms_norm', 'log_total_wins_norm', \n",
    "               'winner', 'season', 'Winter', 'Summer', 'Spring', 'nominee', 'bp_nominee', 'oscar_name', 'oscar_year']]"
   ]
  },
  {
   "cell_type": "code",
   "execution_count": 20,
   "metadata": {
    "collapsed": true
   },
   "outputs": [],
   "source": [
    "# DUMP\n",
    "file = 'df_master_1992-2017_cleaned'\n",
    "fileobj = open(file,'wb') \n",
    "pickle.dump(df_model,fileobj)"
   ]
  },
  {
   "cell_type": "code",
   "execution_count": 21,
   "metadata": {
    "collapsed": true
   },
   "outputs": [],
   "source": [
    "df_model.to_csv('oscars_df_clean.csv', index=False, header=True)"
   ]
  },
  {
   "cell_type": "code",
   "execution_count": null,
   "metadata": {
    "collapsed": true
   },
   "outputs": [],
   "source": []
  }
 ],
 "metadata": {
  "kernelspec": {
   "display_name": "Python 3",
   "language": "python",
   "name": "python3"
  },
  "language_info": {
   "codemirror_mode": {
    "name": "ipython",
    "version": 3
   },
   "file_extension": ".py",
   "mimetype": "text/x-python",
   "name": "python",
   "nbconvert_exporter": "python",
   "pygments_lexer": "ipython3",
   "version": "3.6.0"
  }
 },
 "nbformat": 4,
 "nbformat_minor": 2
}
