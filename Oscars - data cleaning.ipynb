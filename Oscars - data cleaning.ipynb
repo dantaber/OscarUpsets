{
 "cells": [
  {
   "cell_type": "code",
   "execution_count": null,
   "metadata": {
    "collapsed": true
   },
   "outputs": [],
   "source": [
    "import pickle\n",
    "import pandas as pd\n",
    "import numpy as np\n",
    "import re\n",
    "import warnings\n",
    "warnings.filterwarnings('ignore')\n",
    "from matplotlib import pyplot as plt\n",
    "%matplotlib inline"
   ]
  },
  {
   "cell_type": "code",
   "execution_count": null,
   "metadata": {
    "collapsed": true
   },
   "outputs": [],
   "source": [
    "# LOAD\n",
    "file = 'df_master_1992-2017'\n",
    "f = open(file,'rb') \n",
    "df = pickle.load(f) \n",
    "f.close()"
   ]
  },
  {
   "cell_type": "code",
   "execution_count": null,
   "metadata": {
    "collapsed": true
   },
   "outputs": [],
   "source": [
    "df_match = df[df.match == 'match']"
   ]
  },
  {
   "cell_type": "markdown",
   "metadata": {},
   "source": [
    "**Features to focus on:**  \n",
    "* Budget\n",
    "* Gross\n",
    "* Genre (dummy variables)\n",
    "* Country (US or UK - dummy variables)\n",
    "* Runtime\n",
    "* Metacritic score\n",
    "* Total nominations\n",
    "* Total wins\n",
    "* Month"
   ]
  },
  {
   "cell_type": "code",
   "execution_count": null,
   "metadata": {
    "collapsed": true
   },
   "outputs": [],
   "source": [
    "df = df_match[['imdb_name', 'imdb_year', 'budget', 'gross', 'drama', 'comedy', 'action', 'crime', 'romance', \n",
    "                 'sport', 'biography', 'mystery', 'musical', 'thriller', 'adventure',\n",
    "                 'sci-fi', 'family', 'history', 'USA', 'UK', 'runtime', 'metacritic', \n",
    "                   'total_noms', 'total_wins', 'month', 'winner', 'nominee', 'bp_nominee', 'oscar_name', 'oscar_year']]"
   ]
  },
  {
   "cell_type": "code",
   "execution_count": null,
   "metadata": {},
   "outputs": [],
   "source": [
    "df.head()"
   ]
  },
  {
   "cell_type": "markdown",
   "metadata": {},
   "source": [
    "**Convert runtime, budget, gross into integers**"
   ]
  },
  {
   "cell_type": "code",
   "execution_count": null,
   "metadata": {
    "collapsed": true
   },
   "outputs": [],
   "source": [
    "for i in ['budget', 'runtime', 'gross']:\n",
    "    df[i] = df[i].replace(np.nan, '')"
   ]
  },
  {
   "cell_type": "code",
   "execution_count": null,
   "metadata": {
    "collapsed": true
   },
   "outputs": [],
   "source": [
    "df['test'] = df.runtime.map(lambda x: re.findall(r'[0-9]+', x))\n",
    "df['runtime'] = df.test.apply(lambda x: int(x[0]) if len(x)>0 else np.nan)"
   ]
  },
  {
   "cell_type": "code",
   "execution_count": null,
   "metadata": {
    "collapsed": true
   },
   "outputs": [],
   "source": [
    "df['gross_new'] = df.gross.map(lambda x: ''.join(e for e in x if e.isdigit() or e == '.'))\n",
    "df['gross_dollar'] = df.gross.apply(lambda x: 1 if '$' in x else 0)\n",
    "df['gross_new'] = df.gross_new.map(lambda x: int(x) if len(x)>0 else np.nan)"
   ]
  },
  {
   "cell_type": "code",
   "execution_count": null,
   "metadata": {
    "collapsed": true
   },
   "outputs": [],
   "source": [
    "df['budget_new'] = df.budget.map(lambda x: ''.join(e for e in x if e.isdigit() or e == '.'))\n",
    "df['budget_dollar'] = df.budget.apply(lambda x: 1 if '$' in x else 0)"
   ]
  },
  {
   "cell_type": "code",
   "execution_count": null,
   "metadata": {},
   "outputs": [],
   "source": [
    "df['budget_currency'] = df.budget.map(lambda x: x[0] if len(x)>0 else '')\n",
    "df.budget_currency.value_counts()"
   ]
  },
  {
   "cell_type": "markdown",
   "metadata": {},
   "source": [
    "**NOTE**: Need to drop budget - too many missings"
   ]
  },
  {
   "cell_type": "markdown",
   "metadata": {},
   "source": [
    "## Handle missing data"
   ]
  },
  {
   "cell_type": "code",
   "execution_count": null,
   "metadata": {},
   "outputs": [],
   "source": [
    "df.isnull().sum()"
   ]
  },
  {
   "cell_type": "code",
   "execution_count": null,
   "metadata": {
    "collapsed": true
   },
   "outputs": [],
   "source": [
    "# Replace with zero\n",
    "for i in ['total_noms', 'total_wins', 'winner']:\n",
    "    df.loc[df[i].isnull() , i] = 0"
   ]
  },
  {
   "cell_type": "code",
   "execution_count": null,
   "metadata": {
    "collapsed": true
   },
   "outputs": [],
   "source": [
    "# Replace with mean\n",
    "for i in ['metacritic', 'gross_new', 'runtime']:\n",
    "    df[i].fillna(df[i].mean(), inplace = True)"
   ]
  },
  {
   "cell_type": "markdown",
   "metadata": {},
   "source": [
    "# Create new variables"
   ]
  },
  {
   "cell_type": "code",
   "execution_count": null,
   "metadata": {
    "collapsed": true
   },
   "outputs": [],
   "source": [
    "# Convert month to season and create dummies\n",
    "seasons = {\"season\": {\"January\": 'Winter', \"February\": 'Spring', \"March\": 'Spring',\n",
    "                     \"April\": 'Spring', \"May\": 'Spring', \"June\": 'Summer', \"July\": 'Summer', \n",
    "                     \"August\": 'Summer', \"September\": 'Summer', \"October\": 'Winter', \n",
    "                     \"November\": 'Winter', \"December\": 'Winter' }}\n",
    "\n",
    "df['season'] = df.month\n",
    "df.replace(seasons, inplace=True)\n",
    "\n",
    "df_season = pd.get_dummies(df['season'])\n",
    "df = pd.concat([df, df_season], axis=1)"
   ]
  },
  {
   "cell_type": "code",
   "execution_count": null,
   "metadata": {
    "collapsed": true
   },
   "outputs": [],
   "source": [
    "# Standardize continuous variables by year\n",
    "for i in ['gross_new', 'metacritic', 'total_wins', 'total_noms']:\n",
    "    df[i + str('_norm')] = df.groupby('imdb_year')[i].transform(lambda x: (x - x.mean()) / x.std())"
   ]
  },
  {
   "cell_type": "code",
   "execution_count": null,
   "metadata": {},
   "outputs": [],
   "source": [
    "plt.hist(df.gross_new_norm.dropna(), alpha=0.9, color='blue')"
   ]
  },
  {
   "cell_type": "code",
   "execution_count": null,
   "metadata": {
    "collapsed": true
   },
   "outputs": [],
   "source": [
    "# Log transform gross, wins, and noms\n",
    "for i in ['gross_new_norm', 'total_wins_norm', 'total_noms_norm']:\n",
    "    df['log_' + i] = df[i].map(lambda x: np.log(x + 1))"
   ]
  },
  {
   "cell_type": "code",
   "execution_count": null,
   "metadata": {},
   "outputs": [],
   "source": [
    "plt.hist(df.log_gross_new_norm.dropna(), alpha=0.9, color='blue')"
   ]
  },
  {
   "cell_type": "code",
   "execution_count": null,
   "metadata": {},
   "outputs": [],
   "source": [
    "plt.hist(df.log_total_wins_norm.dropna(), alpha=0.9, color='blue')"
   ]
  },
  {
   "cell_type": "code",
   "execution_count": null,
   "metadata": {},
   "outputs": [],
   "source": [
    "plt.hist(df.log_total_noms_norm.dropna(), alpha=0.9, color='blue')"
   ]
  },
  {
   "cell_type": "markdown",
   "metadata": {},
   "source": [
    "## Export df to be used in model"
   ]
  },
  {
   "cell_type": "code",
   "execution_count": null,
   "metadata": {
    "collapsed": true
   },
   "outputs": [],
   "source": [
    "df_model = df[['imdb_name', 'imdb_year', 'log_gross_new_norm',\n",
    "               'drama', 'comedy', 'action', 'crime', 'romance', 'sport', 'biography', 'mystery', 'musical', \n",
    "               'thriller', 'adventure', 'sci-fi', 'family', 'history', 'USA', 'UK', \n",
    "               'runtime', 'metacritic_norm', 'log_total_noms_norm', 'log_total_wins_norm', \n",
    "               'winner', 'season', 'Winter', 'Summer', 'Spring', 'nominee', 'bp_nominee', 'oscar_name', 'oscar_year']]"
   ]
  },
  {
   "cell_type": "code",
   "execution_count": null,
   "metadata": {
    "collapsed": true
   },
   "outputs": [],
   "source": [
    "# DUMP\n",
    "file = 'df_master_1992-2017_cleaned'\n",
    "fileobj = open(file,'wb') \n",
    "pickle.dump(df_model,fileobj)"
   ]
  },
  {
   "cell_type": "code",
   "execution_count": null,
   "metadata": {
    "collapsed": true
   },
   "outputs": [],
   "source": [
    "df_model.to_csv('oscars_df_clean.csv', index=False, header=True)"
   ]
  },
  {
   "cell_type": "code",
   "execution_count": null,
   "metadata": {
    "collapsed": true
   },
   "outputs": [],
   "source": []
  }
 ],
 "metadata": {
  "kernelspec": {
   "display_name": "Python 3",
   "language": "python",
   "name": "python3"
  },
  "language_info": {
   "codemirror_mode": {
    "name": "ipython",
    "version": 3
   },
   "file_extension": ".py",
   "mimetype": "text/x-python",
   "name": "python",
   "nbconvert_exporter": "python",
   "pygments_lexer": "ipython3",
   "version": "3.6.0"
  }
 },
 "nbformat": 4,
 "nbformat_minor": 2
}
