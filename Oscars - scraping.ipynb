{
 "cells": [
  {
   "cell_type": "code",
   "execution_count": null,
   "metadata": {
    "collapsed": true
   },
   "outputs": [],
   "source": [
    "import requests\n",
    "import re\n",
    "import pandas as pd\n",
    "import time\n",
    "import os\n",
    "import sys\n",
    "import pickle\n",
    "import numpy as np\n",
    "from bs4 import BeautifulSoup\n",
    "from calendar import month_name"
   ]
  },
  {
   "cell_type": "code",
   "execution_count": null,
   "metadata": {
    "collapsed": true
   },
   "outputs": [],
   "source": [
    "sys.path.append(\"/Library/Frameworks/Python.framework/Versions/2.7/lib/python2.7/site-packages\")"
   ]
  },
  {
   "cell_type": "code",
   "execution_count": null,
   "metadata": {},
   "outputs": [],
   "source": [
    "from selenium import webdriver\n",
    "from selenium.webdriver.common.keys import Keys\n",
    "from fuzzywuzzy import fuzz "
   ]
  },
  {
   "cell_type": "code",
   "execution_count": null,
   "metadata": {
    "collapsed": true
   },
   "outputs": [],
   "source": [
    "chromedriver = \"/Applications/chromedriver\"\n",
    "os.environ[\"webdriver.chrome.driver\"] = chromedriver\n",
    "driver = webdriver.Chrome(chromedriver)"
   ]
  },
  {
   "cell_type": "markdown",
   "metadata": {},
   "source": [
    "# Collect sample - scrape a list of movies from Oscars.org and Metacritic"
   ]
  },
  {
   "cell_type": "markdown",
   "metadata": {},
   "source": [
    "Systematically sample high-quality movies by starting with movies that were nominated for a major Oscar category, and subsequently adding movies that had high Metacritic scores "
   ]
  },
  {
   "cell_type": "markdown",
   "metadata": {},
   "source": [
    "## Functions"
   ]
  },
  {
   "cell_type": "markdown",
   "metadata": {},
   "source": [
    "Create 2 functions to collect different categories of films from Oscars.org (different functions are needed for different categories because Oscars.org pages are formatted differently):  \n",
    "* Best Picture, Director, Adapted Screenplay, Original Screenplay\n",
    "* Best Actor, Actress, Supporting Actor, Supporting Actress"
   ]
  },
  {
   "cell_type": "code",
   "execution_count": null,
   "metadata": {
    "collapsed": true
   },
   "outputs": [],
   "source": [
    "def bp_nominees (year, awards):\n",
    "    global nom_list\n",
    "    global final_bpnoms\n",
    "    url = 'https://www.oscars.org/oscars/ceremonies/' + str(year)\n",
    "    driver.get(url)\n",
    "    nominees = driver.find_elements_by_xpath('//div[@class=\"view-grouping\"]')\n",
    "    \n",
    "    nom_list = []\n",
    "    final_bpnoms = []\n",
    "\n",
    "    for i in range(len(nominees)):\n",
    "        temp = nominees[i].text.split('\\n')\n",
    "        nom_list.append(temp)\n",
    "    \n",
    "    for i in range(len(nom_list)):\n",
    "        for category in (awards):\n",
    "            if nom_list[i][0] == category:\n",
    "                new_temp = nom_list[i]\n",
    "                noms = [x for x in new_temp if x.isupper()]\n",
    "                movies = list(filter(lambda x: x not in [category, 'WINNER', 'NOMINEES'], noms))\n",
    "                movies = [x.lower() for x in movies]\n",
    "                if category == 'BEST PICTURE':\n",
    "                    final_bpnoms = movies + list(set(final_bpnoms) - set(movies))\n",
    "                else:                \n",
    "                    final_bpnoms = final_bpnoms + list(set(movies) - set(final_bpnoms))\n",
    "        else:\n",
    "            continue\n",
    "        \n",
    "    return final_bpnoms"
   ]
  },
  {
   "cell_type": "code",
   "execution_count": null,
   "metadata": {
    "collapsed": true
   },
   "outputs": [],
   "source": [
    "def other_nominees (year):\n",
    "    global cat_list\n",
    "    global nom_list \n",
    "    url = 'https://www.oscars.org/oscars/ceremonies/' + str(year)\n",
    "    driver.get(url)\n",
    "    nominees = driver.find_elements_by_xpath('//div[@class=\"view-grouping\"]')\n",
    "    \n",
    "    cat_list = []\n",
    "    nom_list = []\n",
    "\n",
    "    for i in range(len(nominees)):\n",
    "        temp = nominees[i].text.split('\\n')\n",
    "        nom_list.append(temp)\n",
    "    \n",
    "    for i in range(len(nom_list)):\n",
    "        for category in ('ACTOR IN A LEADING ROLE', 'ACTRESS IN A LEADING ROLE',\n",
    "                        'ACTOR IN A SUPPORTING ROLE', 'ACTRESS IN A SUPPORTING ROLE'):\n",
    "            if nom_list[i][0] == category:\n",
    "                new_temp = nom_list[i]\n",
    "                movies = [x for x in new_temp if not x.isupper()]\n",
    "                movies = [x.lower() for x in movies]\n",
    "                cat_list = cat_list + list(set(movies) - set(cat_list))\n",
    "        else:\n",
    "            continue\n",
    "               \n",
    "    return cat_list"
   ]
  },
  {
   "cell_type": "markdown",
   "metadata": {},
   "source": [
    "## Scrape movies from Oscars.org"
   ]
  },
  {
   "cell_type": "code",
   "execution_count": null,
   "metadata": {
    "collapsed": true
   },
   "outputs": [],
   "source": [
    "# Best Picture nominees only\n",
    "master_list = []\n",
    "for i in range (1993, 2018):\n",
    "    bp_nominees(i, ['BEST PICTURE'])\n",
    "    oscars = final_bpnoms\n",
    "    master_list.extend(oscars)"
   ]
  },
  {
   "cell_type": "code",
   "execution_count": null,
   "metadata": {
    "collapsed": true
   },
   "outputs": [],
   "source": [
    "df = pd.DataFrame(master_list, columns=['oscar_name'])\n",
    "df['bp_nominee'] = 1.0"
   ]
  },
  {
   "cell_type": "code",
   "execution_count": null,
   "metadata": {
    "collapsed": true
   },
   "outputs": [],
   "source": [
    "file = 'df_bp_nominees_1992-2017'\n",
    "fileobj = open(file,'wb') \n",
    "pickle.dump(df,fileobj) "
   ]
  },
  {
   "cell_type": "code",
   "execution_count": null,
   "metadata": {
    "collapsed": true
   },
   "outputs": [],
   "source": [
    "# All Oscar nominees\n",
    "master_list = []\n",
    "for i in range (1993, 2018):\n",
    "    bp_nominees(i, ['BEST PICTURE', 'DIRECTING', \n",
    "                    'WRITING (ADAPTED SCREENPLAY)', 'WRITING (ORIGINAL SCREENPLAY)'])\n",
    "    other_nominees(i)\n",
    "    oscars = final_bpnoms + list(set(cat_list) - set(final_bpnoms))\n",
    "    master_list.extend(oscars)"
   ]
  },
  {
   "cell_type": "code",
   "execution_count": null,
   "metadata": {
    "collapsed": true
   },
   "outputs": [],
   "source": [
    "df = pd.DataFrame(master_list, columns=['oscar_name'])\n",
    "df['nominee'] = 1.0"
   ]
  },
  {
   "cell_type": "code",
   "execution_count": null,
   "metadata": {
    "collapsed": true
   },
   "outputs": [],
   "source": [
    "file = 'df_all_nominees_1992-2017'\n",
    "fileobj = open(file,'wb') \n",
    "pickle.dump(df,fileobj) "
   ]
  },
  {
   "cell_type": "markdown",
   "metadata": {},
   "source": [
    "## Cast a wider net - scrape movies from both Oscars.org and Metacritic"
   ]
  },
  {
   "cell_type": "markdown",
   "metadata": {},
   "source": [
    "This generates 25 lists of movies (1 list per year, 1992-2016) that meet one of these criteria:  \n",
    "* Nominated for one of the major 8 Oscar categories  \n",
    "* One of the highest rated movies on Metacritic (NOTE: threshold is much lower in earlier years due to the relatively low number of movies)\n",
    "\n",
    "In each list, the first movie is the one that won Best Picture."
   ]
  },
  {
   "cell_type": "code",
   "execution_count": null,
   "metadata": {
    "collapsed": true
   },
   "outputs": [],
   "source": [
    "master_list = []\n",
    "for i in range (1993, 2018):\n",
    "    bp_nominees(i, ['BEST PICTURE', 'DIRECTING', \n",
    "                    'WRITING (ADAPTED SCREENPLAY)', 'WRITING (ORIGINAL SCREENPLAY)'])\n",
    "    other_nominees(i)\n",
    "    oscars = final_bpnoms + list(set(cat_list) - set(final_bpnoms))\n",
    "        \n",
    "    if i !=2018:\n",
    "        url = 'http://www.metacritic.com/browse/movies/score/metascore/year/filtered?year_selected=' + str(i-1)\n",
    "        driver.get(url)\n",
    "        search = driver.find_elements_by_xpath('//table[@class=\"list score\"]')\n",
    "        metacritic = []\n",
    "\n",
    "        for j in range(len(search)):\n",
    "            temp2 = search[j].text.split('\\n')[2::5]\n",
    "            metacritic.extend(temp2)\n",
    "        metacritic = [x.lower() for x in metacritic]\n",
    "        year = oscars + [x for x in metacritic if x not in oscars]\n",
    "    else:\n",
    "        pass\n",
    "    year.append(i)\n",
    "    master_list.append(year)"
   ]
  },
  {
   "cell_type": "code",
   "execution_count": null,
   "metadata": {
    "collapsed": true
   },
   "outputs": [],
   "source": [
    "# Export the list\n",
    "file = 'oscars+metacritic_1992-2017'\n",
    "fileobj = open(file,'wb') \n",
    "pickle.dump(master_list,fileobj) "
   ]
  },
  {
   "cell_type": "markdown",
   "metadata": {},
   "source": [
    "# Search IMDB for movies in Oscar/Metacritic list"
   ]
  },
  {
   "cell_type": "markdown",
   "metadata": {},
   "source": [
    "Create functions to search for movies on IMDB. Title and year are used to find the correct match. Errors often occur, though, due to IMDB quirks (conducting the exact same search twice can lead to two different results). As a result, it's useful to repeat the search multiple times - hence, the \"take2\" function."
   ]
  },
  {
   "cell_type": "markdown",
   "metadata": {},
   "source": [
    "## Functions"
   ]
  },
  {
   "cell_type": "code",
   "execution_count": null,
   "metadata": {
    "collapsed": true
   },
   "outputs": [],
   "source": [
    "driver = webdriver.Chrome(chromedriver)\n",
    "driver.get('http://www.imdb.com/')"
   ]
  },
  {
   "cell_type": "code",
   "execution_count": null,
   "metadata": {
    "collapsed": true
   },
   "outputs": [],
   "source": [
    "def imdb_search(movie, year):\n",
    "    global final_choice\n",
    "    global soup\n",
    "\n",
    "    searchbox = driver.find_element_by_id('navbar-query')\n",
    "    searchbox.click()\n",
    "    searchbox.clear()\n",
    "    searchbox.send_keys(movie + ' ' + str(year))\n",
    "    time.sleep(2)\n",
    "\n",
    "    sug_html = driver.find_element_by_id('navbar-suggestionsearch').get_attribute('innerHTML')\n",
    "    \n",
    "    soup=BeautifulSoup(sug_html, 'lxml')\n",
    "    \n",
    "    try:\n",
    "        title = [x.text for x in soup.find_all('span', { \"class\" : \"title\" })]\n",
    "        year = [x.text for x in soup.find_all('span', { \"class\" : \"extra\" })]\n",
    "        detail = [x.text for x in soup.find_all('div', { \"class\" : \"detail\" })]\n",
    "        link = [x['href'] for x in soup.find_all('a')]\n",
    "\n",
    "        suggested_movies = list(zip(title, year, detail, link[:-1]))\n",
    "        final_choice = suggested_movies[0]\n",
    "    except:\n",
    "        final_choice = ()\n",
    "        pass\n",
    "    print(final_choice)"
   ]
  },
  {
   "cell_type": "code",
   "execution_count": null,
   "metadata": {
    "collapsed": true
   },
   "outputs": [],
   "source": [
    "# Helper function to change df as movies are matched\n",
    "def corrections(num):\n",
    "    df['imdb_name'][num] = final_choice[0]\n",
    "    df['imdb_year'][num] = final_choice[1]\n",
    "    df['imdb_actors'][num] = final_choice[2]\n",
    "    df['imdb_link'][num] = final_choice[3]\n",
    "    df['match'][num] = 'match'\n",
    "    mismatch_list.remove(num)\n",
    "    return mismatch_list"
   ]
  },
  {
   "cell_type": "code",
   "execution_count": null,
   "metadata": {
    "collapsed": true
   },
   "outputs": [],
   "source": [
    "# Conduct repeated searches on movies that haven't been found yet\n",
    "def take2 (tries):\n",
    "    count = 0\n",
    "    sleep = 1\n",
    "\n",
    "    while len(mismatch_list) > 0 and count < tries:\n",
    "        for i in mismatch_list:\n",
    "            search = df.oscars_name_year[i][0]\n",
    "            imdb_search(search, int(df.oscars_name_year[i][1]) - 1)\n",
    "            time.sleep(sleep) \n",
    "            if len(final_choice) < 3:\n",
    "                continue\n",
    "            elif final_choice[0].lower() == search:\n",
    "                corrections(i)\n",
    "            elif fuzz.ratio(final_choice[0].lower(), search) > 70:\n",
    "                df['match'][i] = 'unclear'\n",
    "            else:\n",
    "                continue\n",
    "        count += 1\n",
    "        sleep += 1\n",
    "        print(df.match.value_counts())"
   ]
  },
  {
   "cell_type": "markdown",
   "metadata": {},
   "source": [
    "## Search IMDB for movies in 'master_list' of movies that were scraped from Oscars.org and Metacritic"
   ]
  },
  {
   "cell_type": "code",
   "execution_count": null,
   "metadata": {
    "collapsed": true
   },
   "outputs": [],
   "source": [
    "search_results = []\n",
    "\n",
    "for i in range(len(master_list)):\n",
    "    for j in range(len(master_list[i]) - 1):\n",
    "        imdb_search(master_list[i][j], int(master_list[i][-1])-1)\n",
    "        temp = list(final_choice)\n",
    "        temp.append([master_list[i][j], master_list[i][-1]])\n",
    "        search_results.append(temp)       "
   ]
  },
  {
   "cell_type": "code",
   "execution_count": null,
   "metadata": {
    "collapsed": true
   },
   "outputs": [],
   "source": [
    "# Check whether IMDB search matched Oscar list\n",
    "for i in range(2000, 2455):\n",
    "    if len(search_results[i]) < 4:\n",
    "        search_results[i].append('mismatch')\n",
    "    elif search_results[i][0].lower() == search_results[i][-1][0]:\n",
    "        search_results[i].append('match')\n",
    "    elif search_results[i][0][:7].lower() == search_results[i][-1][0][:7]:\n",
    "        search_results[i].append('unclear')\n",
    "    else:\n",
    "        search_results[i].append('mismatch')"
   ]
  },
  {
   "cell_type": "code",
   "execution_count": null,
   "metadata": {
    "collapsed": true
   },
   "outputs": [],
   "source": [
    "df = pd.DataFrame(search_results, columns=['imdb_name', 'imdb_year', 'imdb_actors', 'imdb_link', \n",
    "                                           'oscars_name_year', 'match'])"
   ]
  },
  {
   "cell_type": "code",
   "execution_count": null,
   "metadata": {
    "collapsed": true
   },
   "outputs": [],
   "source": [
    "# Convert empty matches into 'mismatch'\n",
    "df['flag'] = df.oscars_name_year.map(lambda x: str(x))\n",
    "df.loc[df['flag'] == 'None', 'match'] = 'mismatch'\n",
    "\n",
    "for i in range (len(df)):\n",
    "    if df['flag'][i] == 'None':\n",
    "        df['oscars_name_year'][i] = df['imdb_name'][i]"
   ]
  },
  {
   "cell_type": "markdown",
   "metadata": {},
   "source": [
    "Erroneous \"matches\" often occur because the title of the matched film and target film are similar (e.g., \"The Godfather\" and \"The Godfather, Part II\"). Use release year to double-check that the match is correct."
   ]
  },
  {
   "cell_type": "code",
   "execution_count": null,
   "metadata": {
    "collapsed": true
   },
   "outputs": [],
   "source": [
    "df['imdb_year'] = df.imdb_year.map(lambda x: x.strip('()'))\n",
    "df['imdb_year_int'] = df[df.imdb_year != 'mismatch'].imdb_year.map(lambda x: int(x))\n",
    "df['oscar_year_int'] = df[df.match != 'mismatch'].oscars_name_year.map(lambda x: x[-1])\n",
    "df['year_diff'] = df.oscar_year_int - df.imdb_year_int\n",
    "df['flag'] = df.year_diff.apply(lambda x: 'mismatch' if abs(x) > 2 else None)\n",
    "df.loc[(df.flag == 'mismatch') , 'match'] = 'mismatch'"
   ]
  },
  {
   "cell_type": "code",
   "execution_count": null,
   "metadata": {
    "collapsed": true
   },
   "outputs": [],
   "source": [
    "df.match.value_counts()"
   ]
  },
  {
   "cell_type": "code",
   "execution_count": null,
   "metadata": {
    "collapsed": true
   },
   "outputs": [],
   "source": [
    "df[df.match == 'unclear']"
   ]
  },
  {
   "cell_type": "code",
   "execution_count": null,
   "metadata": {
    "collapsed": true
   },
   "outputs": [],
   "source": [
    "# Manually change 'unclear' to 'match',  as appropriate:\n",
    "# for i in []:\n",
    "#     df['match'][i] = 'match'"
   ]
  },
  {
   "cell_type": "code",
   "execution_count": null,
   "metadata": {
    "collapsed": true
   },
   "outputs": [],
   "source": [
    "# Re-search those who were mismatched - repeat as needed\n",
    "mismatch_list = df.index[df['match'] == 'mismatch'].tolist()\n",
    "len(mismatch_list)"
   ]
  },
  {
   "cell_type": "code",
   "execution_count": null,
   "metadata": {
    "collapsed": true
   },
   "outputs": [],
   "source": [
    "take2(1)"
   ]
  },
  {
   "cell_type": "code",
   "execution_count": null,
   "metadata": {
    "collapsed": true
   },
   "outputs": [],
   "source": [
    "df[df.match == 'mismatch']"
   ]
  },
  {
   "cell_type": "markdown",
   "metadata": {},
   "source": [
    "**NOTE**  \n",
    "Some films can't be matched due to IMBD errors (e.g., 'Crash' is incorrectly labeled as being released in 2004). Code below is used, as needed, to manually fix those."
   ]
  },
  {
   "cell_type": "code",
   "execution_count": null,
   "metadata": {
    "collapsed": true
   },
   "outputs": [],
   "source": [
    "# mismatch_list = df.index[df['match'] == 'mismatch'].tolist()\n",
    "# imdb_search('tt0375679', 2005)\n",
    "# corrections(1196)"
   ]
  },
  {
   "cell_type": "markdown",
   "metadata": {},
   "source": [
    "**Flag the Best Picture winner**"
   ]
  },
  {
   "cell_type": "markdown",
   "metadata": {},
   "source": [
    "Since the movies are sorted by year, with the first movie in each year being the Best Picture, use \"diff\" to identify the Best Picture."
   ]
  },
  {
   "cell_type": "code",
   "execution_count": null,
   "metadata": {
    "collapsed": true
   },
   "outputs": [],
   "source": [
    "df['winner'] = df.oscar_year_int.diff()\n",
    "df.winner.value_counts()"
   ]
  },
  {
   "cell_type": "code",
   "execution_count": null,
   "metadata": {
    "collapsed": true
   },
   "outputs": [],
   "source": [
    "df[df.winner == 1.0]"
   ]
  },
  {
   "cell_type": "markdown",
   "metadata": {
    "collapsed": true
   },
   "source": [
    "# Scrape data from IMDB"
   ]
  },
  {
   "cell_type": "markdown",
   "metadata": {},
   "source": [
    "Now that the 'master_list' has been matched to IMDB, scrape specific features for each movie:  \n",
    "* Genre  \n",
    "* Metacritic and popularity scores\n",
    "* Actors, Director, Writers  \n",
    "* Other specs - budget, gross, release date, country, runtime\n",
    "* Number of awards\n",
    "* Specific awards"
   ]
  },
  {
   "cell_type": "code",
   "execution_count": null,
   "metadata": {
    "collapsed": true
   },
   "outputs": [],
   "source": [
    "df.drop(['year_diff', 'test', 'flag'], axis=1, inplace=True)"
   ]
  },
  {
   "cell_type": "code",
   "execution_count": null,
   "metadata": {
    "collapsed": true
   },
   "outputs": [],
   "source": [
    "df = pd.concat([df,pd.DataFrame(columns=['metacritic', 'popularity', 'country', 'gross', 'budget',\n",
    "                                        'runtime', 'month', 'actors', 'director', 'writers', 'genre',\n",
    "                                        'total_wins', 'total_noms'])])"
   ]
  },
  {
   "cell_type": "code",
   "execution_count": null,
   "metadata": {
    "collapsed": true
   },
   "outputs": [],
   "source": [
    "len(df)"
   ]
  },
  {
   "cell_type": "code",
   "execution_count": null,
   "metadata": {
    "collapsed": true
   },
   "outputs": [],
   "source": [
    "for i in range(len(df)):\n",
    "    if df['match'][i] != 'match':\n",
    "        continue\n",
    "    else:\n",
    "        url = 'http://www.imdb.com' + df.imdb_link[i]\n",
    "        driver.get(url)\n",
    "\n",
    "        # Genre\n",
    "        try:\n",
    "            df['genre'][i] = driver.find_element_by_xpath('//div[@itemprop=\"genre\"]').text.split(': ')[-1]\n",
    "        except:\n",
    "            pass\n",
    "            \n",
    "        # Metacritic score and popularity\n",
    "        search = driver.find_elements_by_xpath('//div[@class=\"titleReviewBarItem\"]')\n",
    "        try:\n",
    "            df['metacritic'][i] = int(search[0].text.split('\\n')[0])\n",
    "            df['popularity'][i] = int(search[1].text.split('\\n')[1].split()[0].replace(',', ''))\n",
    "        except:\n",
    "            pass\n",
    "\n",
    "        # Stars\n",
    "        search = driver.find_elements_by_xpath('//div[@class=\"credit_summary_item\"]')\n",
    "        try:\n",
    "            df['actors'][i] = search[2].text.split('|')[0].split(':')[-1]\n",
    "            df['director'][i] = search[0].text.split(':')\n",
    "            df['writers'][i] = search[1].text.split(':')\n",
    "        except:\n",
    "            pass\n",
    "\n",
    "        # Other specs\n",
    "        try:\n",
    "            search = driver.find_element_by_xpath('//div[@id=\"titleDetails\"]').text.split('\\n')\n",
    "            spec_list = ['Country', 'Budget', 'Gross', 'Opening Weekend', 'Release Date', 'Runtime']\n",
    "            specs = list(filter(lambda x: x.split(':')[0] in spec_list, search))\n",
    "        except:\n",
    "            pass\n",
    "            \n",
    "        # Month of release\n",
    "        try:\n",
    "            release_date = [x for x in specs if 'Release Date' in x]\n",
    "            pattern = \"|\".join(month_name[1:])\n",
    "            df['month'][i] = re.search(pattern, release_date[0], re.IGNORECASE).group(0)\n",
    "        except:\n",
    "            pass\n",
    "            \n",
    "        # Country, gross, budget, and runtime\n",
    "        df['country'][i] = [x for x in specs if 'Country' in x][0].split(':')[-1]\n",
    "        try:\n",
    "            df['gross'][i] = [x for x in specs if 'Gross' in x][0].split(': ')[1].split()[0]\n",
    "            df['runtime'][i] = [x for x in specs if 'Runtime' in x][0].split(': ')[1]  \n",
    "            df['budget'][i] = [x for x in specs if 'Budget' in x][0].split(': ')[1].split()[0]\n",
    "        except:\n",
    "            pass\n",
    "        \n",
    "        # Award counts\n",
    "        url_new = url.replace('http://www.imdb.com', '')\n",
    "        url_new = url_new.replace('?ref_=nv_sr_1', '')\n",
    "        link = '//a[@href=\"' + url_new + 'awards?ref_=tt_awd' + '\"]'\n",
    "        search = driver.find_elements_by_xpath(link)\n",
    "        try:\n",
    "            search[0].click()\n",
    "            search = driver.find_elements_by_xpath('//div[@class=\"desc\"]')\n",
    "            awards_quant = search[0].text\n",
    "            df['total_wins'][i] = int(re.search(r'[0-9]+\\ wins', awards_quant).group().strip(' wins'))\n",
    "            df['total_noms'][i] = int(re.search(r'[0-9]+\\ nominations', awards_quant).group().strip(' nominations')) \n",
    "        except:\n",
    "            continue"
   ]
  },
  {
   "cell_type": "code",
   "execution_count": null,
   "metadata": {
    "collapsed": true
   },
   "outputs": [],
   "source": [
    "df.count()"
   ]
  },
  {
   "cell_type": "markdown",
   "metadata": {},
   "source": [
    "**Create dummy variables for country and genre**"
   ]
  },
  {
   "cell_type": "code",
   "execution_count": null,
   "metadata": {
    "collapsed": true
   },
   "outputs": [],
   "source": [
    "for i in ['USA', 'UK']:\n",
    "    df[i] = df['country'].apply(lambda x: 1 if i in str(x) else 0)"
   ]
  },
  {
   "cell_type": "code",
   "execution_count": null,
   "metadata": {
    "collapsed": true
   },
   "outputs": [],
   "source": [
    "for i in ['Drama', 'Comedy', 'Action', 'Crime', 'Romance', 'Sport', 'Biography', 'Mystery',\n",
    "          'Musical', 'Thriller', 'Horror', 'Adventure', 'Sci-Fi', 'Family', 'History']:\n",
    "    df[i.lower()] = df['genre'].apply(lambda x: 1 if i in str(x) else 0)"
   ]
  },
  {
   "cell_type": "code",
   "execution_count": null,
   "metadata": {
    "collapsed": true
   },
   "outputs": [],
   "source": [
    "# DUMP\n",
    "file = 'df_all_movies_1992-2017'\n",
    "fileobj = open(file,'wb') \n",
    "pickle.dump(df_all,fileobj) "
   ]
  },
  {
   "cell_type": "markdown",
   "metadata": {},
   "source": [
    "# Merge everything"
   ]
  },
  {
   "cell_type": "code",
   "execution_count": null,
   "metadata": {
    "collapsed": true
   },
   "outputs": [],
   "source": [
    "# Load data and limit to matches\n",
    "file = 'df_all_movies_1992-2017'\n",
    "f1 = open(file,'rb') \n",
    "df_all = pickle.load(f1) \n",
    "f1.close()\n",
    "\n",
    "file = 'df_all_nominees_1992-2017'\n",
    "f2 = open(file,'rb') \n",
    "df_noms = pickle.load(f2) \n",
    "f2.close()\n",
    "\n",
    "file = 'df_bp_nominees_1992-2017'\n",
    "f3 = open(file,'rb') \n",
    "df_bp = pickle.load(f3) \n",
    "f3.close()"
   ]
  },
  {
   "cell_type": "code",
   "execution_count": null,
   "metadata": {
    "collapsed": true
   },
   "outputs": [],
   "source": [
    "df_all['oscar_name'] = df_all.oscars_name_year.map(lambda x: x[0])\n",
    "df_all['oscar_year'] = df_all.oscars_name_year.map(lambda x: x[1])"
   ]
  },
  {
   "cell_type": "code",
   "execution_count": null,
   "metadata": {
    "collapsed": true
   },
   "outputs": [],
   "source": [
    "df = pd.merge(df_all, df_noms, on='oscar_name', how='outer')"
   ]
  },
  {
   "cell_type": "code",
   "execution_count": null,
   "metadata": {
    "collapsed": true
   },
   "outputs": [],
   "source": [
    "df = pd.merge(df, df_bp, on='oscar_name', how='outer')"
   ]
  },
  {
   "cell_type": "code",
   "execution_count": null,
   "metadata": {
    "collapsed": true
   },
   "outputs": [],
   "source": [
    "for i in ['nominee', 'bp_nominee']:\n",
    "    df.loc[df[i].isnull() , i] = 0"
   ]
  },
  {
   "cell_type": "code",
   "execution_count": null,
   "metadata": {
    "collapsed": true
   },
   "outputs": [],
   "source": [
    "# Dump into pickle file\n",
    "file = 'df_master_1992-2017'\n",
    "fileobj = open(file,'wb') \n",
    "pickle.dump(df,fileobj) "
   ]
  }
 ],
 "metadata": {
  "kernelspec": {
   "display_name": "Python 3",
   "language": "python",
   "name": "python3"
  },
  "language_info": {
   "codemirror_mode": {
    "name": "ipython",
    "version": 3
   },
   "file_extension": ".py",
   "mimetype": "text/x-python",
   "name": "python",
   "nbconvert_exporter": "python",
   "pygments_lexer": "ipython3",
   "version": "3.6.0"
  }
 },
 "nbformat": 4,
 "nbformat_minor": 2
}
